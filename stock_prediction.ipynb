{
 "cells": [
  {
   "cell_type": "markdown",
   "metadata": {},
   "source": [
    "## Stock Prediction - Tesla"
   ]
  },
  {
   "cell_type": "code",
   "execution_count": 1,
   "metadata": {},
   "outputs": [],
   "source": [
    "\n",
    "#import required libraries\n",
    "\n",
    "import pandas as pd\n",
    "import numpy as np\n",
    "\n",
    "import matplotlib.pyplot as plt\n",
    "import datetime\n",
    "\n",
    "import warnings\n",
    "warnings.filterwarnings('ignore')\n"
   ]
  },
  {
   "cell_type": "code",
   "execution_count": 3,
   "metadata": {},
   "outputs": [],
   "source": [
    "data=pd.read_csv('tesla.csv')"
   ]
  },
  {
   "cell_type": "code",
   "execution_count": 6,
   "metadata": {},
   "outputs": [
    {
     "data": {
      "text/html": [
       "<div>\n",
       "<style scoped>\n",
       "    .dataframe tbody tr th:only-of-type {\n",
       "        vertical-align: middle;\n",
       "    }\n",
       "\n",
       "    .dataframe tbody tr th {\n",
       "        vertical-align: top;\n",
       "    }\n",
       "\n",
       "    .dataframe thead th {\n",
       "        text-align: right;\n",
       "    }\n",
       "</style>\n",
       "<table border=\"1\" class=\"dataframe\">\n",
       "  <thead>\n",
       "    <tr style=\"text-align: right;\">\n",
       "      <th></th>\n",
       "      <th>Date</th>\n",
       "      <th>Open</th>\n",
       "      <th>High</th>\n",
       "      <th>Low</th>\n",
       "      <th>Close</th>\n",
       "      <th>Adj Close</th>\n",
       "      <th>Volume</th>\n",
       "    </tr>\n",
       "  </thead>\n",
       "  <tbody>\n",
       "    <tr>\n",
       "      <th>0</th>\n",
       "      <td>29/06/2010</td>\n",
       "      <td>1.266667</td>\n",
       "      <td>1.666667</td>\n",
       "      <td>1.169333</td>\n",
       "      <td>1.592667</td>\n",
       "      <td>1.592667</td>\n",
       "      <td>281494500</td>\n",
       "    </tr>\n",
       "    <tr>\n",
       "      <th>1</th>\n",
       "      <td>30/06/2010</td>\n",
       "      <td>1.719333</td>\n",
       "      <td>2.028000</td>\n",
       "      <td>1.553333</td>\n",
       "      <td>1.588667</td>\n",
       "      <td>1.588667</td>\n",
       "      <td>257806500</td>\n",
       "    </tr>\n",
       "    <tr>\n",
       "      <th>2</th>\n",
       "      <td>01/07/2010</td>\n",
       "      <td>1.666667</td>\n",
       "      <td>1.728000</td>\n",
       "      <td>1.351333</td>\n",
       "      <td>1.464000</td>\n",
       "      <td>1.464000</td>\n",
       "      <td>123282000</td>\n",
       "    </tr>\n",
       "    <tr>\n",
       "      <th>3</th>\n",
       "      <td>02/07/2010</td>\n",
       "      <td>1.533333</td>\n",
       "      <td>1.540000</td>\n",
       "      <td>1.247333</td>\n",
       "      <td>1.280000</td>\n",
       "      <td>1.280000</td>\n",
       "      <td>77097000</td>\n",
       "    </tr>\n",
       "    <tr>\n",
       "      <th>4</th>\n",
       "      <td>06/07/2010</td>\n",
       "      <td>1.333333</td>\n",
       "      <td>1.333333</td>\n",
       "      <td>1.055333</td>\n",
       "      <td>1.074000</td>\n",
       "      <td>1.074000</td>\n",
       "      <td>103003500</td>\n",
       "    </tr>\n",
       "    <tr>\n",
       "      <th>5</th>\n",
       "      <td>07/07/2010</td>\n",
       "      <td>1.093333</td>\n",
       "      <td>1.108667</td>\n",
       "      <td>0.998667</td>\n",
       "      <td>1.053333</td>\n",
       "      <td>1.053333</td>\n",
       "      <td>103825500</td>\n",
       "    </tr>\n",
       "    <tr>\n",
       "      <th>6</th>\n",
       "      <td>08/07/2010</td>\n",
       "      <td>1.076000</td>\n",
       "      <td>1.168000</td>\n",
       "      <td>1.038000</td>\n",
       "      <td>1.164000</td>\n",
       "      <td>1.164000</td>\n",
       "      <td>115671000</td>\n",
       "    </tr>\n",
       "    <tr>\n",
       "      <th>7</th>\n",
       "      <td>09/07/2010</td>\n",
       "      <td>1.172000</td>\n",
       "      <td>1.193333</td>\n",
       "      <td>1.103333</td>\n",
       "      <td>1.160000</td>\n",
       "      <td>1.160000</td>\n",
       "      <td>60759000</td>\n",
       "    </tr>\n",
       "    <tr>\n",
       "      <th>8</th>\n",
       "      <td>12/07/2010</td>\n",
       "      <td>1.196667</td>\n",
       "      <td>1.204667</td>\n",
       "      <td>1.133333</td>\n",
       "      <td>1.136667</td>\n",
       "      <td>1.136667</td>\n",
       "      <td>33037500</td>\n",
       "    </tr>\n",
       "    <tr>\n",
       "      <th>9</th>\n",
       "      <td>13/07/2010</td>\n",
       "      <td>1.159333</td>\n",
       "      <td>1.242667</td>\n",
       "      <td>1.126667</td>\n",
       "      <td>1.209333</td>\n",
       "      <td>1.209333</td>\n",
       "      <td>40201500</td>\n",
       "    </tr>\n",
       "  </tbody>\n",
       "</table>\n",
       "</div>"
      ],
      "text/plain": [
       "         Date      Open      High       Low     Close  Adj Close     Volume\n",
       "0  29/06/2010  1.266667  1.666667  1.169333  1.592667   1.592667  281494500\n",
       "1  30/06/2010  1.719333  2.028000  1.553333  1.588667   1.588667  257806500\n",
       "2  01/07/2010  1.666667  1.728000  1.351333  1.464000   1.464000  123282000\n",
       "3  02/07/2010  1.533333  1.540000  1.247333  1.280000   1.280000   77097000\n",
       "4  06/07/2010  1.333333  1.333333  1.055333  1.074000   1.074000  103003500\n",
       "5  07/07/2010  1.093333  1.108667  0.998667  1.053333   1.053333  103825500\n",
       "6  08/07/2010  1.076000  1.168000  1.038000  1.164000   1.164000  115671000\n",
       "7  09/07/2010  1.172000  1.193333  1.103333  1.160000   1.160000   60759000\n",
       "8  12/07/2010  1.196667  1.204667  1.133333  1.136667   1.136667   33037500\n",
       "9  13/07/2010  1.159333  1.242667  1.126667  1.209333   1.209333   40201500"
      ]
     },
     "execution_count": 6,
     "metadata": {},
     "output_type": "execute_result"
    }
   ],
   "source": [
    "data.head(10)"
   ]
  },
  {
   "cell_type": "code",
   "execution_count": 7,
   "metadata": {},
   "outputs": [
    {
     "data": {
      "text/html": [
       "<div>\n",
       "<style scoped>\n",
       "    .dataframe tbody tr th:only-of-type {\n",
       "        vertical-align: middle;\n",
       "    }\n",
       "\n",
       "    .dataframe tbody tr th {\n",
       "        vertical-align: top;\n",
       "    }\n",
       "\n",
       "    .dataframe thead th {\n",
       "        text-align: right;\n",
       "    }\n",
       "</style>\n",
       "<table border=\"1\" class=\"dataframe\">\n",
       "  <thead>\n",
       "    <tr style=\"text-align: right;\">\n",
       "      <th></th>\n",
       "      <th>Date</th>\n",
       "      <th>Open</th>\n",
       "      <th>High</th>\n",
       "      <th>Low</th>\n",
       "      <th>Close</th>\n",
       "      <th>Adj Close</th>\n",
       "      <th>Volume</th>\n",
       "    </tr>\n",
       "  </thead>\n",
       "  <tbody>\n",
       "    <tr>\n",
       "      <th>3152</th>\n",
       "      <td>05/01/2023</td>\n",
       "      <td>110.510002</td>\n",
       "      <td>111.750000</td>\n",
       "      <td>107.160004</td>\n",
       "      <td>110.339996</td>\n",
       "      <td>110.339996</td>\n",
       "      <td>157986300</td>\n",
       "    </tr>\n",
       "    <tr>\n",
       "      <th>3153</th>\n",
       "      <td>06/01/2023</td>\n",
       "      <td>103.000000</td>\n",
       "      <td>114.389999</td>\n",
       "      <td>101.809998</td>\n",
       "      <td>113.059998</td>\n",
       "      <td>113.059998</td>\n",
       "      <td>220575900</td>\n",
       "    </tr>\n",
       "    <tr>\n",
       "      <th>3154</th>\n",
       "      <td>09/01/2023</td>\n",
       "      <td>118.959999</td>\n",
       "      <td>123.519997</td>\n",
       "      <td>117.110001</td>\n",
       "      <td>119.769997</td>\n",
       "      <td>119.769997</td>\n",
       "      <td>190284000</td>\n",
       "    </tr>\n",
       "    <tr>\n",
       "      <th>3155</th>\n",
       "      <td>10/01/2023</td>\n",
       "      <td>121.070000</td>\n",
       "      <td>122.760002</td>\n",
       "      <td>114.919998</td>\n",
       "      <td>118.849998</td>\n",
       "      <td>118.849998</td>\n",
       "      <td>167642500</td>\n",
       "    </tr>\n",
       "    <tr>\n",
       "      <th>3156</th>\n",
       "      <td>11/01/2023</td>\n",
       "      <td>122.089996</td>\n",
       "      <td>125.949997</td>\n",
       "      <td>120.510002</td>\n",
       "      <td>123.220001</td>\n",
       "      <td>123.220001</td>\n",
       "      <td>183810800</td>\n",
       "    </tr>\n",
       "    <tr>\n",
       "      <th>3157</th>\n",
       "      <td>12/01/2023</td>\n",
       "      <td>122.559998</td>\n",
       "      <td>124.129997</td>\n",
       "      <td>117.000000</td>\n",
       "      <td>123.559998</td>\n",
       "      <td>123.559998</td>\n",
       "      <td>169400900</td>\n",
       "    </tr>\n",
       "    <tr>\n",
       "      <th>3158</th>\n",
       "      <td>13/01/2023</td>\n",
       "      <td>116.550003</td>\n",
       "      <td>122.629997</td>\n",
       "      <td>115.599998</td>\n",
       "      <td>122.400002</td>\n",
       "      <td>122.400002</td>\n",
       "      <td>180439300</td>\n",
       "    </tr>\n",
       "    <tr>\n",
       "      <th>3159</th>\n",
       "      <td>17/01/2023</td>\n",
       "      <td>125.699997</td>\n",
       "      <td>131.699997</td>\n",
       "      <td>125.019997</td>\n",
       "      <td>131.490005</td>\n",
       "      <td>131.490005</td>\n",
       "      <td>186477000</td>\n",
       "    </tr>\n",
       "    <tr>\n",
       "      <th>3160</th>\n",
       "      <td>18/01/2023</td>\n",
       "      <td>136.559998</td>\n",
       "      <td>136.679993</td>\n",
       "      <td>127.010002</td>\n",
       "      <td>128.779999</td>\n",
       "      <td>128.779999</td>\n",
       "      <td>195680300</td>\n",
       "    </tr>\n",
       "    <tr>\n",
       "      <th>3161</th>\n",
       "      <td>19/01/2023</td>\n",
       "      <td>127.260002</td>\n",
       "      <td>129.990005</td>\n",
       "      <td>124.309998</td>\n",
       "      <td>127.169998</td>\n",
       "      <td>127.169998</td>\n",
       "      <td>169883300</td>\n",
       "    </tr>\n",
       "  </tbody>\n",
       "</table>\n",
       "</div>"
      ],
      "text/plain": [
       "            Date        Open        High         Low       Close   Adj Close  \\\n",
       "3152  05/01/2023  110.510002  111.750000  107.160004  110.339996  110.339996   \n",
       "3153  06/01/2023  103.000000  114.389999  101.809998  113.059998  113.059998   \n",
       "3154  09/01/2023  118.959999  123.519997  117.110001  119.769997  119.769997   \n",
       "3155  10/01/2023  121.070000  122.760002  114.919998  118.849998  118.849998   \n",
       "3156  11/01/2023  122.089996  125.949997  120.510002  123.220001  123.220001   \n",
       "3157  12/01/2023  122.559998  124.129997  117.000000  123.559998  123.559998   \n",
       "3158  13/01/2023  116.550003  122.629997  115.599998  122.400002  122.400002   \n",
       "3159  17/01/2023  125.699997  131.699997  125.019997  131.490005  131.490005   \n",
       "3160  18/01/2023  136.559998  136.679993  127.010002  128.779999  128.779999   \n",
       "3161  19/01/2023  127.260002  129.990005  124.309998  127.169998  127.169998   \n",
       "\n",
       "         Volume  \n",
       "3152  157986300  \n",
       "3153  220575900  \n",
       "3154  190284000  \n",
       "3155  167642500  \n",
       "3156  183810800  \n",
       "3157  169400900  \n",
       "3158  180439300  \n",
       "3159  186477000  \n",
       "3160  195680300  \n",
       "3161  169883300  "
      ]
     },
     "execution_count": 7,
     "metadata": {},
     "output_type": "execute_result"
    }
   ],
   "source": [
    "data.tail(10)"
   ]
  },
  {
   "cell_type": "code",
   "execution_count": 9,
   "metadata": {},
   "outputs": [
    {
     "name": "stdout",
     "output_type": "stream",
     "text": [
      "<class 'pandas.core.frame.DataFrame'>\n",
      "RangeIndex: 3162 entries, 0 to 3161\n",
      "Data columns (total 7 columns):\n",
      " #   Column     Non-Null Count  Dtype  \n",
      "---  ------     --------------  -----  \n",
      " 0   Date       3162 non-null   object \n",
      " 1   Open       3162 non-null   float64\n",
      " 2   High       3162 non-null   float64\n",
      " 3   Low        3162 non-null   float64\n",
      " 4   Close      3162 non-null   float64\n",
      " 5   Adj Close  3162 non-null   float64\n",
      " 6   Volume     3162 non-null   int64  \n",
      "dtypes: float64(5), int64(1), object(1)\n",
      "memory usage: 173.1+ KB\n"
     ]
    }
   ],
   "source": [
    "data.info()"
   ]
  },
  {
   "cell_type": "code",
   "execution_count": 11,
   "metadata": {},
   "outputs": [
    {
     "data": {
      "text/html": [
       "<div>\n",
       "<style scoped>\n",
       "    .dataframe tbody tr th:only-of-type {\n",
       "        vertical-align: middle;\n",
       "    }\n",
       "\n",
       "    .dataframe tbody tr th {\n",
       "        vertical-align: top;\n",
       "    }\n",
       "\n",
       "    .dataframe thead th {\n",
       "        text-align: right;\n",
       "    }\n",
       "</style>\n",
       "<table border=\"1\" class=\"dataframe\">\n",
       "  <thead>\n",
       "    <tr style=\"text-align: right;\">\n",
       "      <th></th>\n",
       "      <th>count</th>\n",
       "      <th>mean</th>\n",
       "      <th>std</th>\n",
       "      <th>min</th>\n",
       "      <th>25%</th>\n",
       "      <th>50%</th>\n",
       "      <th>75%</th>\n",
       "      <th>max</th>\n",
       "    </tr>\n",
       "  </thead>\n",
       "  <tbody>\n",
       "    <tr>\n",
       "      <th>Open</th>\n",
       "      <td>3162.0</td>\n",
       "      <td>5.909002e+01</td>\n",
       "      <td>9.555067e+01</td>\n",
       "      <td>1.076000e+00</td>\n",
       "      <td>9.037333e+00</td>\n",
       "      <td>1.629433e+01</td>\n",
       "      <td>2.496583e+01</td>\n",
       "      <td>4.114700e+02</td>\n",
       "    </tr>\n",
       "    <tr>\n",
       "      <th>High</th>\n",
       "      <td>3162.0</td>\n",
       "      <td>6.041540e+01</td>\n",
       "      <td>9.774621e+01</td>\n",
       "      <td>1.108667e+00</td>\n",
       "      <td>9.252500e+00</td>\n",
       "      <td>1.651467e+01</td>\n",
       "      <td>2.521267e+01</td>\n",
       "      <td>4.144967e+02</td>\n",
       "    </tr>\n",
       "    <tr>\n",
       "      <th>Low</th>\n",
       "      <td>3162.0</td>\n",
       "      <td>5.762237e+01</td>\n",
       "      <td>9.306748e+01</td>\n",
       "      <td>9.986670e-01</td>\n",
       "      <td>8.828500e+00</td>\n",
       "      <td>1.601633e+01</td>\n",
       "      <td>2.443867e+01</td>\n",
       "      <td>4.056667e+02</td>\n",
       "    </tr>\n",
       "    <tr>\n",
       "      <th>Close</th>\n",
       "      <td>3162.0</td>\n",
       "      <td>5.903985e+01</td>\n",
       "      <td>9.542023e+01</td>\n",
       "      <td>1.053333e+00</td>\n",
       "      <td>9.066833e+00</td>\n",
       "      <td>1.629567e+01</td>\n",
       "      <td>2.498683e+01</td>\n",
       "      <td>4.099700e+02</td>\n",
       "    </tr>\n",
       "    <tr>\n",
       "      <th>Adj Close</th>\n",
       "      <td>3162.0</td>\n",
       "      <td>5.903985e+01</td>\n",
       "      <td>9.542023e+01</td>\n",
       "      <td>1.053333e+00</td>\n",
       "      <td>9.066833e+00</td>\n",
       "      <td>1.629567e+01</td>\n",
       "      <td>2.498683e+01</td>\n",
       "      <td>4.099700e+02</td>\n",
       "    </tr>\n",
       "    <tr>\n",
       "      <th>Volume</th>\n",
       "      <td>3162.0</td>\n",
       "      <td>9.394769e+07</td>\n",
       "      <td>8.175154e+07</td>\n",
       "      <td>1.777500e+06</td>\n",
       "      <td>4.243012e+07</td>\n",
       "      <td>7.609725e+07</td>\n",
       "      <td>1.179720e+08</td>\n",
       "      <td>9.140820e+08</td>\n",
       "    </tr>\n",
       "  </tbody>\n",
       "</table>\n",
       "</div>"
      ],
      "text/plain": [
       "            count          mean           std           min           25%  \\\n",
       "Open       3162.0  5.909002e+01  9.555067e+01  1.076000e+00  9.037333e+00   \n",
       "High       3162.0  6.041540e+01  9.774621e+01  1.108667e+00  9.252500e+00   \n",
       "Low        3162.0  5.762237e+01  9.306748e+01  9.986670e-01  8.828500e+00   \n",
       "Close      3162.0  5.903985e+01  9.542023e+01  1.053333e+00  9.066833e+00   \n",
       "Adj Close  3162.0  5.903985e+01  9.542023e+01  1.053333e+00  9.066833e+00   \n",
       "Volume     3162.0  9.394769e+07  8.175154e+07  1.777500e+06  4.243012e+07   \n",
       "\n",
       "                    50%           75%           max  \n",
       "Open       1.629433e+01  2.496583e+01  4.114700e+02  \n",
       "High       1.651467e+01  2.521267e+01  4.144967e+02  \n",
       "Low        1.601633e+01  2.443867e+01  4.056667e+02  \n",
       "Close      1.629567e+01  2.498683e+01  4.099700e+02  \n",
       "Adj Close  1.629567e+01  2.498683e+01  4.099700e+02  \n",
       "Volume     7.609725e+07  1.179720e+08  9.140820e+08  "
      ]
     },
     "execution_count": 11,
     "metadata": {},
     "output_type": "execute_result"
    }
   ],
   "source": [
    "#statistical summary of the data\n",
    "data.describe().T"
   ]
  },
  {
   "cell_type": "code",
   "execution_count": 12,
   "metadata": {},
   "outputs": [
    {
     "data": {
      "text/plain": [
       "Date         0\n",
       "Open         0\n",
       "High         0\n",
       "Low          0\n",
       "Close        0\n",
       "Adj Close    0\n",
       "Volume       0\n",
       "dtype: int64"
      ]
     },
     "execution_count": 12,
     "metadata": {},
     "output_type": "execute_result"
    }
   ],
   "source": [
    "data.isna().sum()"
   ]
  },
  {
   "cell_type": "code",
   "execution_count": 13,
   "metadata": {},
   "outputs": [],
   "source": [
    "data['Date'] = pd.to_datetime(data['Date'])\n",
    "data.set_index('Date', inplace=True)"
   ]
  },
  {
   "cell_type": "code",
   "execution_count": 16,
   "metadata": {},
   "outputs": [
    {
     "data": {
      "text/plain": [
       "(3162, 6)"
      ]
     },
     "execution_count": 16,
     "metadata": {},
     "output_type": "execute_result"
    }
   ],
   "source": [
    "data.shape"
   ]
  },
  {
   "cell_type": "code",
   "execution_count": 20,
   "metadata": {},
   "outputs": [
    {
     "data": {
      "image/png": "[encoded data removed]",
      "text/plain": [
       "<Figure size 1200x600 with 1 Axes>"
      ]
     },
     "metadata": {},
     "output_type": "display_data"
    }
   ],
   "source": [
    "\n",
    "#plot of close price history\n",
    "\n",
    "plt.figure(figsize=(12,6))\n",
    "plt.style.use('dark_background')\n",
    "plt.grid(True)\n",
    "plt.title('Close Price History')\n",
    "plt.plot(data['Close'], color='blue')\n",
    "plt.xlabel('Date', fontsize=18)\n",
    "plt.ylabel('Close Price USD ($)', fontsize=18)\n",
    "plt.show()"
   ]
  },
  {
   "cell_type": "code",
   "execution_count": 28,
   "metadata": {},
   "outputs": [
    {
     "data": {
      "text/plain": [
       "3004"
      ]
     },
     "execution_count": 28,
     "metadata": {},
     "output_type": "execute_result"
    }
   ],
   "source": [
    "#create a new dataframe with only the 'Close' column\n",
    "data_close = data.filter(['Close'])\n",
    "dataset = data_close.values\n",
    "train_data_len = int(np.ceil( len(dataset) * .95 ))\n",
    "train_data_len"
   ]
  },
  {
   "cell_type": "markdown",
   "metadata": {},
   "source": [
    "### Transform and split Data "
   ]
  },
  {
   "cell_type": "code",
   "execution_count": 25,
   "metadata": {},
   "outputs": [],
   "source": [
    "from sklearn.preprocessing import MinMaxScaler"
   ]
  },
  {
   "cell_type": "code",
   "execution_count": 29,
   "metadata": {},
   "outputs": [
    {
     "data": {
      "text/plain": [
       "array([[0.00131893],\n",
       "       [0.00130915],\n",
       "       [0.00100428],\n",
       "       ...,\n",
       "       [0.31898106],\n",
       "       [0.31235378],\n",
       "       [0.30841654]])"
      ]
     },
     "execution_count": 29,
     "metadata": {},
     "output_type": "execute_result"
    }
   ],
   "source": [
    "scaler=MinMaxScaler(feature_range=(0,1))\n",
    "scale_data=scaler.fit_transform(dataset)\n",
    "scale_data"
   ]
  },
  {
   "cell_type": "code",
   "execution_count": 30,
   "metadata": {},
   "outputs": [
    {
     "name": "stdout",
     "output_type": "stream",
     "text": [
      "[array([1.31893376e-03, 1.30915182e-03, 1.00428041e-03, 5.54310983e-04,\n",
      "       5.05408598e-05, 0.00000000e+00, 2.70634603e-04, 2.60852659e-04,\n",
      "       2.03792133e-04, 3.81495821e-04, 6.58652535e-04, 6.66803340e-04,\n",
      "       7.89077642e-04, 9.96129608e-04, 7.33645810e-04, 7.20604033e-04,\n",
      "       8.47769306e-04, 8.95047888e-04, 8.39618501e-04, 7.74404725e-04,\n",
      "       8.02119419e-04, 7.41799060e-04, 6.74954145e-04, 8.34727529e-04,\n",
      "       1.00264927e-03, 8.90156916e-04, 7.58100670e-04, 6.17893619e-04,\n",
      "       6.19524759e-04, 5.26596289e-04, 3.42368045e-04, 2.93458324e-04,\n",
      "       4.10841653e-04, 4.85837374e-04, 5.46160178e-04, 4.84206234e-04,\n",
      "       4.87468513e-04, 5.38006927e-04, 7.05931117e-04, 5.54310983e-04,\n",
      "       6.68434479e-04, 6.43979619e-04, 6.35826368e-04, 6.63543507e-04,\n",
      "       5.99960870e-04, 7.58100670e-04, 8.57551251e-04, 8.55920111e-04,\n",
      "       7.72773586e-04, 8.31465251e-04, 8.00490725e-04, 7.12453228e-04,\n",
      "       8.02119419e-04, 8.67333195e-04, 1.00754025e-03, 8.37987362e-04,\n",
      "       7.22235172e-04, 8.57551251e-04, 8.10272669e-04, 6.63543507e-04])]\n",
      "[0.000613002647277758]\n",
      "\n",
      "[array([1.31893376e-03, 1.30915182e-03, 1.00428041e-03, 5.54310983e-04,\n",
      "       5.05408598e-05, 0.00000000e+00, 2.70634603e-04, 2.60852659e-04,\n",
      "       2.03792133e-04, 3.81495821e-04, 6.58652535e-04, 6.66803340e-04,\n",
      "       7.89077642e-04, 9.96129608e-04, 7.33645810e-04, 7.20604033e-04,\n",
      "       8.47769306e-04, 8.95047888e-04, 8.39618501e-04, 7.74404725e-04,\n",
      "       8.02119419e-04, 7.41799060e-04, 6.74954145e-04, 8.34727529e-04,\n",
      "       1.00264927e-03, 8.90156916e-04, 7.58100670e-04, 6.17893619e-04,\n",
      "       6.19524759e-04, 5.26596289e-04, 3.42368045e-04, 2.93458324e-04,\n",
      "       4.10841653e-04, 4.85837374e-04, 5.46160178e-04, 4.84206234e-04,\n",
      "       4.87468513e-04, 5.38006927e-04, 7.05931117e-04, 5.54310983e-04,\n",
      "       6.68434479e-04, 6.43979619e-04, 6.35826368e-04, 6.63543507e-04,\n",
      "       5.99960870e-04, 7.58100670e-04, 8.57551251e-04, 8.55920111e-04,\n",
      "       7.72773586e-04, 8.31465251e-04, 8.00490725e-04, 7.12453228e-04,\n",
      "       8.02119419e-04, 8.67333195e-04, 1.00754025e-03, 8.37987362e-04,\n",
      "       7.22235172e-04, 8.57551251e-04, 8.10272669e-04, 6.63543507e-04]), array([1.30915182e-03, 1.00428041e-03, 5.54310983e-04, 5.05408598e-05,\n",
      "       0.00000000e+00, 2.70634603e-04, 2.60852659e-04, 2.03792133e-04,\n",
      "       3.81495821e-04, 6.58652535e-04, 6.66803340e-04, 7.89077642e-04,\n",
      "       9.96129608e-04, 7.33645810e-04, 7.20604033e-04, 8.47769306e-04,\n",
      "       8.95047888e-04, 8.39618501e-04, 7.74404725e-04, 8.02119419e-04,\n",
      "       7.41799060e-04, 6.74954145e-04, 8.34727529e-04, 1.00264927e-03,\n",
      "       8.90156916e-04, 7.58100670e-04, 6.17893619e-04, 6.19524759e-04,\n",
      "       5.26596289e-04, 3.42368045e-04, 2.93458324e-04, 4.10841653e-04,\n",
      "       4.85837374e-04, 5.46160178e-04, 4.84206234e-04, 4.87468513e-04,\n",
      "       5.38006927e-04, 7.05931117e-04, 5.54310983e-04, 6.68434479e-04,\n",
      "       6.43979619e-04, 6.35826368e-04, 6.63543507e-04, 5.99960870e-04,\n",
      "       7.58100670e-04, 8.57551251e-04, 8.55920111e-04, 7.72773586e-04,\n",
      "       8.31465251e-04, 8.00490725e-04, 7.12453228e-04, 8.02119419e-04,\n",
      "       8.67333195e-04, 1.00754025e-03, 8.37987362e-04, 7.22235172e-04,\n",
      "       8.57551251e-04, 8.10272669e-04, 6.63543507e-04, 6.13002647e-04])]\n",
      "[0.000613002647277758, 0.0007010401444433171]\n",
      "\n"
     ]
    }
   ],
   "source": [
    "#split data\n",
    "train=scale_data[0:train_data_len, :]\n",
    "x_train=[]\n",
    "y_train=[]\n",
    "for i in range(60, len(train)):\n",
    "    x_train.append(train[i-60:i, 0])\n",
    "    y_train.append(train[i, 0])\n",
    "    if i<= 61:\n",
    "        print(x_train)\n",
    "        print(y_train)\n",
    "        print()"
   ]
  },
  {
   "cell_type": "code",
   "execution_count": 31,
   "metadata": {},
   "outputs": [],
   "source": [
    "x_train, y_train = np.array(x_train), np.array(y_train)#convert to numpy arrays"
   ]
  },
  {
   "cell_type": "code",
   "execution_count": 32,
   "metadata": {},
   "outputs": [
    {
     "data": {
      "text/plain": [
       "(2944, 60, 1)"
      ]
     },
     "execution_count": 32,
     "metadata": {},
     "output_type": "execute_result"
    }
   ],
   "source": [
    "x_train = np.reshape(x_train, (x_train.shape[0], x_train.shape[1], 1))#reshape the data\n",
    "x_train.shape"
   ]
  },
  {
   "cell_type": "markdown",
   "metadata": {},
   "source": [
    "### Model Architecture"
   ]
  },
  {
   "cell_type": "code",
   "execution_count": 33,
   "metadata": {},
   "outputs": [],
   "source": [
    "from tensorflow.keras.models import Sequential\n",
    "from tensorflow.keras.layers import Dense, LSTM"
   ]
  },
  {
   "cell_type": "code",
   "execution_count": 34,
   "metadata": {},
   "outputs": [
    {
     "name": "stdout",
     "output_type": "stream",
     "text": [
      "WARNING:tensorflow:From d:\\Python\\Lib\\site-packages\\keras\\src\\backend.py:873: The name tf.get_default_graph is deprecated. Please use tf.compat.v1.get_default_graph instead.\n",
      "\n"
     ]
    }
   ],
   "source": [
    "\n",
    "#Model\n",
    "\n",
    "model=Sequential()\n",
    "model.add(LSTM(64, return_sequences=True, input_shape=(x_train.shape[1], 1)))\n",
    "model.add(LSTM(64, return_sequences=False))\n",
    "model.add(Dense(32))\n",
    "model.add(Dense(1))"
   ]
  },
  {
   "cell_type": "code",
   "execution_count": 35,
   "metadata": {},
   "outputs": [
    {
     "name": "stdout",
     "output_type": "stream",
     "text": [
      "WARNING:tensorflow:From d:\\Python\\Lib\\site-packages\\keras\\src\\optimizers\\__init__.py:309: The name tf.train.Optimizer is deprecated. Please use tf.compat.v1.train.Optimizer instead.\n",
      "\n"
     ]
    }
   ],
   "source": [
    "model.compile(optimizer='adam', loss='mean_squared_error', metrics=['mean_squared_error'])\n"
   ]
  },
  {
   "cell_type": "code",
   "execution_count": 36,
   "metadata": {},
   "outputs": [
    {
     "name": "stdout",
     "output_type": "stream",
     "text": [
      "Epoch 1/15\n",
      "WARNING:tensorflow:From d:\\Python\\Lib\\site-packages\\keras\\src\\utils\\tf_utils.py:492: The name tf.ragged.RaggedTensorValue is deprecated. Please use tf.compat.v1.ragged.RaggedTensorValue instead.\n",
      "\n",
      "WARNING:tensorflow:From d:\\Python\\Lib\\site-packages\\keras\\src\\engine\\base_layer_utils.py:384: The name tf.executing_eagerly_outside_functions is deprecated. Please use tf.compat.v1.executing_eagerly_outside_functions instead.\n",
      "\n",
      "2944/2944 [==============================] - 39s 12ms/step - loss: 0.0015 - mean_squared_error: 0.0015\n",
      "Epoch 2/15\n",
      "2944/2944 [==============================] - 34s 12ms/step - loss: 9.8918e-04 - mean_squared_error: 9.8918e-04\n",
      "Epoch 3/15\n",
      "2944/2944 [==============================] - 34s 12ms/step - loss: 5.2350e-04 - mean_squared_error: 5.2350e-04\n",
      "Epoch 4/15\n",
      "2944/2944 [==============================] - 35s 12ms/step - loss: 3.6928e-04 - mean_squared_error: 3.6928e-04\n",
      "Epoch 5/15\n",
      "2944/2944 [==============================] - 34s 11ms/step - loss: 3.4436e-04 - mean_squared_error: 3.4436e-04\n",
      "Epoch 6/15\n",
      "2944/2944 [==============================] - 34s 11ms/step - loss: 3.1717e-04 - mean_squared_error: 3.1717e-04\n",
      "Epoch 7/15\n",
      "2944/2944 [==============================] - 35s 12ms/step - loss: 3.3058e-04 - mean_squared_error: 3.3058e-04\n",
      "Epoch 8/15\n",
      "2944/2944 [==============================] - 33s 11ms/step - loss: 2.8772e-04 - mean_squared_error: 2.8772e-04\n",
      "Epoch 9/15\n",
      "2944/2944 [==============================] - 33s 11ms/step - loss: 2.6977e-04 - mean_squared_error: 2.6977e-04\n",
      "Epoch 10/15\n",
      "2944/2944 [==============================] - 34s 12ms/step - loss: 2.7515e-04 - mean_squared_error: 2.7515e-04\n",
      "Epoch 11/15\n",
      "2944/2944 [==============================] - 33s 11ms/step - loss: 2.3213e-04 - mean_squared_error: 2.3213e-04\n",
      "Epoch 12/15\n",
      "2944/2944 [==============================] - 34s 11ms/step - loss: 2.1108e-04 - mean_squared_error: 2.1108e-04\n",
      "Epoch 13/15\n",
      "2944/2944 [==============================] - 33s 11ms/step - loss: 2.7429e-04 - mean_squared_error: 2.7429e-04\n",
      "Epoch 14/15\n",
      "2944/2944 [==============================] - 34s 12ms/step - loss: 2.0794e-04 - mean_squared_error: 2.0794e-04\n",
      "Epoch 15/15\n",
      "2944/2944 [==============================] - 34s 12ms/step - loss: 2.3242e-04 - mean_squared_error: 2.3242e-04\n"
     ]
    },
    {
     "data": {
      "text/plain": [
       "<keras.src.callbacks.History at 0x27508964b10>"
      ]
     },
     "execution_count": 36,
     "metadata": {},
     "output_type": "execute_result"
    }
   ],
   "source": [
    "model.fit(x_train, y_train, batch_size=1, epochs=15)"
   ]
  },
  {
   "cell_type": "code",
   "execution_count": 42,
   "metadata": {},
   "outputs": [],
   "source": [
    "#test data set\n",
    "test_data = scale_data[train_data_len - 60: , :]\n",
    "x_test = []\n",
    "\n",
    "y_test = dataset[train_data_len:, :]\n",
    "for i in range(60, len(test_data)):\n",
    "    x_test.append(test_data[i-60:i, 0])"
   ]
  },
  {
   "cell_type": "code",
   "execution_count": 43,
   "metadata": {},
   "outputs": [],
   "source": [
    "x_test = np.array(x_test)#convert to a numpy array"
   ]
  },
  {
   "cell_type": "code",
   "execution_count": 44,
   "metadata": {},
   "outputs": [],
   "source": [
    "x_test=np.reshape(x_test, (x_test.shape[0], x_test.shape[1], 1))#reshape the data"
   ]
  },
  {
   "cell_type": "code",
   "execution_count": 45,
   "metadata": {},
   "outputs": [
    {
     "name": "stdout",
     "output_type": "stream",
     "text": [
      "5/5 [==============================] - 1s 12ms/step\n"
     ]
    }
   ],
   "source": [
    "predict=model.predict(x_test)\n",
    "predict=scaler.inverse_transform(predict)"
   ]
  },
  {
   "cell_type": "code",
   "execution_count": 47,
   "metadata": {},
   "outputs": [],
   "source": [
    "train=data_close[:train_data_len]\n",
    "val=data_close[train_data_len:]\n",
    "val['Predictions']=predict"
   ]
  },
  {
   "cell_type": "code",
   "execution_count": 55,
   "metadata": {},
   "outputs": [
    {
     "data": {
      "text/plain": [
       "<matplotlib.legend.Legend at 0x2751560ce50>"
      ]
     },
     "execution_count": 55,
     "metadata": {},
     "output_type": "execute_result"
    },
    {
     "data": {
      "image/png": "[encoded data removed]",
      "text/plain": [
       "<Figure size 1600x800 with 1 Axes>"
      ]
     },
     "metadata": {},
     "output_type": "display_data"
    }
   ],
   "source": [
    "\n",
    "#plot for model prediction\n",
    "\n",
    "plt.figure(figsize=(16,8))\n",
    "plt.grid(True)\n",
    "plt.title('Model')\n",
    "plt.xlabel('Date', fontsize=18)\n",
    "plt.ylabel('Close Price USD ($)', fontsize=18)\n",
    "plt.plot(train['Close'], color='blue')\n",
    "plt.plot(val[['Close']], color='red')\n",
    "plt.plot(val[['Predictions']], color='green')\n",
    "plt.legend(['Train', 'Val', 'Predictions'], loc='lower right')"
   ]
  },
  {
   "cell_type": "code",
   "execution_count": 56,
   "metadata": {},
   "outputs": [
    {
     "data": {
      "text/html": [
       "<div>\n",
       "<style scoped>\n",
       "    .dataframe tbody tr th:only-of-type {\n",
       "        vertical-align: middle;\n",
       "    }\n",
       "\n",
       "    .dataframe tbody tr th {\n",
       "        vertical-align: top;\n",
       "    }\n",
       "\n",
       "    .dataframe thead th {\n",
       "        text-align: right;\n",
       "    }\n",
       "</style>\n",
       "<table border=\"1\" class=\"dataframe\">\n",
       "  <thead>\n",
       "    <tr style=\"text-align: right;\">\n",
       "      <th></th>\n",
       "      <th>Close</th>\n",
       "      <th>Predictions</th>\n",
       "    </tr>\n",
       "    <tr>\n",
       "      <th>Date</th>\n",
       "      <th></th>\n",
       "      <th></th>\n",
       "    </tr>\n",
       "  </thead>\n",
       "  <tbody>\n",
       "    <tr>\n",
       "      <th>2022-06-03</th>\n",
       "      <td>234.516663</td>\n",
       "      <td>270.415863</td>\n",
       "    </tr>\n",
       "    <tr>\n",
       "      <th>2022-06-06</th>\n",
       "      <td>238.279999</td>\n",
       "      <td>248.412109</td>\n",
       "    </tr>\n",
       "    <tr>\n",
       "      <th>2022-06-07</th>\n",
       "      <td>238.886673</td>\n",
       "      <td>250.911682</td>\n",
       "    </tr>\n",
       "    <tr>\n",
       "      <th>2022-06-08</th>\n",
       "      <td>241.866669</td>\n",
       "      <td>250.441040</td>\n",
       "    </tr>\n",
       "    <tr>\n",
       "      <th>2022-06-09</th>\n",
       "      <td>239.706665</td>\n",
       "      <td>253.347733</td>\n",
       "    </tr>\n",
       "    <tr>\n",
       "      <th>...</th>\n",
       "      <td>...</td>\n",
       "      <td>...</td>\n",
       "    </tr>\n",
       "    <tr>\n",
       "      <th>2023-01-12</th>\n",
       "      <td>123.559998</td>\n",
       "      <td>126.902367</td>\n",
       "    </tr>\n",
       "    <tr>\n",
       "      <th>2023-01-13</th>\n",
       "      <td>122.400002</td>\n",
       "      <td>127.835709</td>\n",
       "    </tr>\n",
       "    <tr>\n",
       "      <th>2023-01-17</th>\n",
       "      <td>131.490005</td>\n",
       "      <td>126.938087</td>\n",
       "    </tr>\n",
       "    <tr>\n",
       "      <th>2023-01-18</th>\n",
       "      <td>128.779999</td>\n",
       "      <td>134.884262</td>\n",
       "    </tr>\n",
       "    <tr>\n",
       "      <th>2023-01-19</th>\n",
       "      <td>127.169998</td>\n",
       "      <td>133.763901</td>\n",
       "    </tr>\n",
       "  </tbody>\n",
       "</table>\n",
       "<p>158 rows × 2 columns</p>\n",
       "</div>"
      ],
      "text/plain": [
       "                 Close  Predictions\n",
       "Date                               \n",
       "2022-06-03  234.516663   270.415863\n",
       "2022-06-06  238.279999   248.412109\n",
       "2022-06-07  238.886673   250.911682\n",
       "2022-06-08  241.866669   250.441040\n",
       "2022-06-09  239.706665   253.347733\n",
       "...                ...          ...\n",
       "2023-01-12  123.559998   126.902367\n",
       "2023-01-13  122.400002   127.835709\n",
       "2023-01-17  131.490005   126.938087\n",
       "2023-01-18  128.779999   134.884262\n",
       "2023-01-19  127.169998   133.763901\n",
       "\n",
       "[158 rows x 2 columns]"
      ]
     },
     "execution_count": 56,
     "metadata": {},
     "output_type": "execute_result"
    }
   ],
   "source": [
    "val#show the actual close and predicted prices"
   ]
  },
  {
   "cell_type": "code",
   "execution_count": 66,
   "metadata": {},
   "outputs": [
    {
     "name": "stdout",
     "output_type": "stream",
     "text": [
      "1/1 [==============================] - 0s 19ms/step\n"
     ]
    },
    {
     "data": {
      "text/plain": [
       "array([[132.08694]], dtype=float32)"
      ]
     },
     "execution_count": 66,
     "metadata": {},
     "output_type": "execute_result"
    }
   ],
   "source": [
    "tesla_quote = pd.read_csv('tesla.csv')\n",
    "new_data = tesla_quote.filter(['Close'])\n",
    "last_60days = new_data[-60:].values\n",
    "last_60days_scale = scaler.transform(last_60days)\n",
    "\n",
    "X_test = []\n",
    "X_test.append(last_60days_scale)\n",
    "X_test = np.array(X_test)\n",
    "X_test = np.reshape(X_test,(X_test.shape[0], X_test.shape[1],1))\n",
    "\n",
    "pred_price= model.predict(X_test)\n",
    "pred_price = scaler.inverse_transform(pred_price)\n",
    "pred_price"
   ]
  }
 ],
 "metadata": {
  "kernelspec": {
   "display_name": "Python 3",
   "language": "python",
   "name": "python3"
  },
  "language_info": {
   "codemirror_mode": {
    "name": "ipython",
    "version": 3
   },
   "file_extension": ".py",
   "mimetype": "text/x-python",
   "name": "python",
   "nbconvert_exporter": "python",
   "pygments_lexer": "ipython3",
   "version": "3.11.8"
  }
 },
 "nbformat": 4,
 "nbformat_minor": 2
}
